{
 "cells": [
  {
   "cell_type": "markdown",
   "metadata": {},
   "source": [
    "## RU Data Science Club - Raw Rutgers Bus Datathon Dataset\n",
    "Welcome to the Rutgers Data Science Club - Fall 2025 Datathon.\n",
    "This notebook will provide Raw Rutgers Bus data for this Fall's Datathon"
   ]
  },
  {
   "cell_type": "markdown",
   "metadata": {},
   "source": [
    "## Ridership\n",
    "\n",
    "Ridership data provides the number of people on each operating bus in 5 minute intervals, starting from 6:00 AM and ending at approximately 3:00 AM the following day.\n",
    "\n",
    "Ridership data will come from an rubus API endpoint, which pulls data from PassioGo's servers. <br />\n",
    "A sample ridership csv file for a single day has been provided to you at **ridership.csv**. <br />\n",
    "If you wish to collect the current day's ridership data, feel free to run the code below."
   ]
  },
  {
   "cell_type": "code",
   "execution_count": 1,
   "metadata": {},
   "outputs": [
    {
     "name": "stdout",
     "output_type": "stream",
     "text": [
      "Fetching https://demo.rubus.live/bus_ridership...\n",
      "Fetched successfully.\n",
      "   bus_id  time  ridership_count\n",
      "0   15188   605                0\n",
      "1   18015   610                3\n",
      "2    4850   610                0\n",
      "3   13209   610                0\n",
      "4   15188   610                0\n"
     ]
    }
   ],
   "source": [
    "import json\n",
    "import requests \n",
    "import csv\n",
    "import pandas as pd\n",
    "from datetime import datetime\n",
    "\n",
    "# Converts a single JSON bus_breaks file to a CSV file containing:\n",
    "# bus_id, time, and ridership_count\n",
    "def api_fetch(api_url):\n",
    "\tprint(f\"Fetching {api_url}...\")\n",
    "\ttry:\n",
    "\t\tresponse = requests.get(api_url, timeout=10)\n",
    "\t\tresponse.raise_for_status()\n",
    "\t\tprint(f\"Fetched successfully.\")\n",
    "\t\treturn response.json()\n",
    "\texcept requests.exceptions.RequestException as e:\n",
    "\t\tprint(f\"Failed to fetch {api_url}. Error: {e}\")\n",
    "\t\treturn None\n",
    "\n",
    "def ridership_to_csv(json_data, csv_file_name):\n",
    "\tif json_data is None:\n",
    "\t\tprint(\"No data\")\n",
    "\t\treturn\n",
    "\trows = []\n",
    "\tfor bus_id, time_data in json_data.items():\n",
    "\t\tfor minute, ridership_count in time_data.items():\n",
    "\t\t\trows.append([bus_id, minute, ridership_count])\n",
    "\tdf = pd.DataFrame(rows, columns=['bus_id', 'time', 'ridership_count'])\n",
    "\tdf['bus_id'] = pd.to_numeric(df['bus_id'])\n",
    "\tdf['time'] = pd.to_numeric(df['time'])\n",
    "\tdf['ridership_count'] = pd.to_numeric(df['ridership_count'])\n",
    "\tdf = df.sort_values(by=['time']).reset_index(drop=True)\n",
    "\tdf.to_csv(csv_file_name, index=False)\n",
    "\tprint(df.head())\n",
    "\n",
    "current_time = datetime.now().strftime(\"%Y-%m-%d_%H:%M:%S\")\n",
    "output_filename=f\"ridership_{current_time}.csv\"\n",
    "ridership_data = api_fetch(\"https://demo.rubus.live/bus_ridership\")\n",
    "ridership_to_csv(ridership_data, output_filename)"
   ]
  },
  {
   "cell_type": "markdown",
   "metadata": {},
   "source": [
    "## Bus Breaks\n",
    "\n",
    "Bus breaks data provides the time a bus arrives and departs from a stop.\n",
    "\n",
    "Bus breaks data will come from an rubus API endpoint, which pulls data from PassioGo's servers. <br />\n",
    "A sample bus breaks csv file for a single day has been provided to you at **bus_breaks.csv**. <br />\n",
    "If you wish to collect the current day's bus breaks data, feel free to run the code below."
   ]
  },
  {
   "cell_type": "code",
   "execution_count": null,
   "metadata": {},
   "outputs": [],
   "source": [
    "import json\n",
    "import requests\n",
    "import pandas as pd\n",
    "from datetime import datetime\n",
    "\n",
    "# Converts a single JSON bus_breaks file to a CSV file containing:\n",
    "# bus_id, stop_id, time_arrived, time_departed, and break_duration\n",
    "def api_fetch(api_url):\n",
    "\tprint(f\"Fetching {api_url}...\")\n",
    "\ttry:\n",
    "\t\tresponse = requests.get(api_url, timeout=10)\n",
    "\t\tresponse.raise_for_status()\n",
    "\t\tprint(f\"Fetched successfully.\")\n",
    "\t\treturn response.json()\n",
    "\texcept requests.exceptions.RequestException as e:\n",
    "\t\tprint(f\"Failed to fetch {api_url}. Error: {e}\")\n",
    "\t\treturn None\n",
    "\n",
    "def bus_breaks_to_csv(csv_file_name):\n",
    "\ttry:\n",
    "\t\t\n",
    "\tbus_ids = vehicles_df['id'].tolist()\n",
    "\tall_breaks = []\n",
    "\tfor id in bus_ids:\n",
    "\t\tapi_url = f\"https://demo.rubus.live/get_breaks?bus_id={id}\"\n",
    "\t\tbreaks_data = api_fetch(api_url)\n",
    "\t\tif breaks_data is not None:\n",
    "\t\t\tfor break_record in breaks_data:\n",
    "\t\t\t\tbreak_record['id'] = id\n",
    "\t\t\t\tall_breaks.append(break_record)\n",
    "\t\telse:\n",
    "\t\t\tprint(f\"No breaks data for bus ID {id}\")\n",
    "\t\t\tcontinue\n",
    "\tdf = pd.DataFrame(all_breaks)\n",
    "\tcolumns=['id', 'stop_id', 'time_arrived', 'time_departed', 'break_duration']\n",
    "\tdf = df[columns]\n",
    "\tdf.to_csv(csv_file_name, index=False)\n",
    "\tprint(df.head())\n",
    "\n",
    "bus_breaks_to_csv(\"./data/bus_breaks_raw.csv\")"
   ]
  },
  {
   "cell_type": "markdown",
   "metadata": {},
   "source": [
    "## Other files\n",
    "We have also provided two more csvs: routes.csv and stops.csv\n",
    "\n",
    "**routes.csv**:\n",
    "- route_id: The name of the bus route\n",
    "- stop sequence: a sequence of stop ids which the buses on that route stop at\n",
    "\n",
    "**stops.csv**:\n",
    "- stop_id: the numerical id of the stop\n",
    "- name: the known name of the stop\n",
    "- campus: the campus which the stop is located on\n",
    "- shortname: a shorter version of name\n"
   ]
  }
 ],
 "metadata": {
  "kernelspec": {
   "display_name": "base",
   "language": "python",
   "name": "python3"
  },
  "language_info": {
   "codemirror_mode": {
    "name": "ipython",
    "version": 3
   },
   "file_extension": ".py",
   "mimetype": "text/x-python",
   "name": "python",
   "nbconvert_exporter": "python",
   "pygments_lexer": "ipython3",
   "version": "3.12.7"
  }
 },
 "nbformat": 4,
 "nbformat_minor": 2
}
